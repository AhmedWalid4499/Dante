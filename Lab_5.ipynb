{
  "cells": [
    {
      "cell_type": "markdown",
      "metadata": {
        "id": "view-in-github",
        "colab_type": "text"
      },
      "source": [
        "<a href=\"https://colab.research.google.com/github/AhmedWalid4499/Dante/blob/main/Lab_5.ipynb\" target=\"_parent\"><img src=\"https://colab.research.google.com/assets/colab-badge.svg\" alt=\"Open In Colab\"/></a>"
      ]
    },
    {
      "cell_type": "markdown",
      "metadata": {
        "id": "t4yYtenjjBQo"
      },
      "source": [
        "<h1 align=\"center\">Natural Language Processing and Information Retrieval</h1>"
      ]
    },
    {
      "cell_type": "markdown",
      "metadata": {
        "id": "us_0q0CRjEGj"
      },
      "source": [
        "<h2 align=\"center\">Lab Assignment 5</h2>"
      ]
    },
    {
      "cell_type": "markdown",
      "metadata": {
        "id": "ay3qYqysjGut"
      },
      "source": [
        "<h3 align=\"center\">Discussion: 27.03.2022 - 31.03.2022</h3>"
      ]
    },
    {
      "cell_type": "markdown",
      "metadata": {
        "id": "FI97VWVqntsm"
      },
      "source": [
        "\n",
        "\n",
        "**Exercise 6-1:** WordNet\n",
        "\n",
        "WordNet is a large word database of English Nouns, Adjectives, Adverbs and Verbs. These are grouped into some set of cognitive synonyms, which are called synsets.\n",
        "\n",
        "Get for the word \"Play\" its synonym, meaning and example using WordNet.\n"
      ]
    },
    {
      "cell_type": "code",
      "execution_count": null,
      "metadata": {
        "colab": {
          "base_uri": "https://localhost:8080/"
        },
        "id": "0Xd8BhtQj8OU",
        "outputId": "40350fbb-5f44-4fab-c102-d7119836c7c4"
      },
      "outputs": [
        {
          "output_type": "stream",
          "name": "stdout",
          "text": [
            "[nltk_data] Downloading package wordnet to /root/nltk_data...\n",
            "[nltk_data]   Unzipping corpora/wordnet.zip.\n"
          ]
        },
        {
          "output_type": "execute_result",
          "data": {
            "text/plain": [
              "True"
            ]
          },
          "metadata": {},
          "execution_count": 1
        }
      ],
      "source": [
        "import nltk\n",
        "nltk.download('wordnet')"
      ]
    },
    {
      "cell_type": "code",
      "execution_count": null,
      "metadata": {
        "id": "7bEDpPdz8779"
      },
      "outputs": [],
      "source": [
        "from nltk.corpus import wordnet   #Import wordnet from the NLTK"
      ]
    },
    {
      "cell_type": "code",
      "execution_count": null,
      "metadata": {
        "colab": {
          "base_uri": "https://localhost:8080/"
        },
        "id": "nV-C0kAhQGpe",
        "outputId": "2fe76638-2847-44c8-9385-0ba679b4b100"
      },
      "outputs": [
        {
          "output_type": "stream",
          "name": "stdout",
          "text": [
            "Synonym of Play is: play\n",
            "The meaning of the word : a dramatic work intended for performance by actors on a stage\n",
            "Example of Play : ['he wrote several plays but only one was produced on Broadway']\n"
          ]
        }
      ],
      "source": [
        "synset = wordnet.synsets(\"play\")\n",
        "print('Synonym of Play is: ' + synset[0].lemmas()[0].name())\n",
        "print('The meaning of the word : ' + synset[0].definition())\n",
        "print('Example of Play : ' + str(synset[0].examples()))"
      ]
    },
    {
      "cell_type": "code",
      "execution_count": null,
      "metadata": {
        "colab": {
          "base_uri": "https://localhost:8080/"
        },
        "id": "L55UBEh0877_",
        "outputId": "ac352d09-8a00-4a46-fcbf-9d99a591fb32"
      },
      "outputs": [
        {
          "output_type": "stream",
          "name": "stdout",
          "text": [
            "[Synset('play.n.01'), Synset('play.n.02'), Synset('play.n.03'), Synset('maneuver.n.03'), Synset('play.n.05'), Synset('play.n.06'), Synset('bid.n.02'), Synset('play.n.08'), Synset('playing_period.n.01'), Synset('free_rein.n.01'), Synset('shimmer.n.01'), Synset('fun.n.02'), Synset('looseness.n.05'), Synset('play.n.14'), Synset('turn.n.03'), Synset('gambling.n.01'), Synset('play.n.17'), Synset('play.v.01'), Synset('play.v.02'), Synset('play.v.03'), Synset('act.v.03'), Synset('play.v.05'), Synset('play.v.06'), Synset('play.v.07'), Synset('act.v.05'), Synset('play.v.09'), Synset('play.v.10'), Synset('play.v.11'), Synset('play.v.12'), Synset('play.v.13'), Synset('play.v.14'), Synset('play.v.15'), Synset('play.v.16'), Synset('play.v.17'), Synset('play.v.18'), Synset('toy.v.02'), Synset('play.v.20'), Synset('dally.v.04'), Synset('play.v.22'), Synset('dally.v.01'), Synset('play.v.24'), Synset('act.v.10'), Synset('play.v.26'), Synset('bring.v.03'), Synset('play.v.28'), Synset('play.v.29'), Synset('bet.v.02'), Synset('play.v.31'), Synset('play.v.32'), Synset('play.v.33'), Synset('meet.v.10'), Synset('play.v.35')]\n"
          ]
        }
      ],
      "source": [
        "print(synset)"
      ]
    },
    {
      "cell_type": "code",
      "execution_count": null,
      "metadata": {
        "colab": {
          "base_uri": "https://localhost:8080/"
        },
        "id": "CkNyrAsl878A",
        "outputId": "2159d913-02be-43c3-8ef4-316089321219"
      },
      "outputs": [
        {
          "output_type": "stream",
          "name": "stdout",
          "text": [
            "[Lemma('maneuver.n.03.maneuver'), Lemma('maneuver.n.03.manoeuvre'), Lemma('maneuver.n.03.play')]\n"
          ]
        }
      ],
      "source": [
        "print(synset[3].lemmas())"
      ]
    },
    {
      "cell_type": "markdown",
      "metadata": {
        "id": "KbzSK5c1nmUN"
      },
      "source": [
        "--\n",
        "**Exercise 6-2:** \n",
        "\n",
        "Return two lists one containing the Synonyms and the other containing the Antonyms of any word taken from the user."
      ]
    },
    {
      "cell_type": "code",
      "execution_count": null,
      "metadata": {
        "colab": {
          "base_uri": "https://localhost:8080/"
        },
        "id": "rdyBXbewQRjK",
        "outputId": "dfb26b0c-22ec-4a6b-9ff4-2d1555874b65"
      },
      "outputs": [
        {
          "output_type": "stream",
          "name": "stdout",
          "text": [
            "Enter your value: Club\n",
            "Synonyms: ['baseball_club', 'ball_club', 'club', 'nine', 'club', 'social_club', 'society', 'guild', 'gild', 'lodge', 'order', 'club', 'clubhouse', 'club', 'golf_club', 'golf-club', 'club', 'club', 'cabaret', 'nightclub', 'night_club', 'club', 'nightspot', 'club', 'club', 'club', 'bludgeon', 'club']\n",
            "Antonyms: []\n"
          ]
        }
      ],
      "source": [
        "val = input(\"Enter your value: \")\n",
        "import nltk\n",
        "from nltk.corpus import wordnet   #Import wordnet from the NLTK\n",
        "syn = list()\n",
        "ant = list()\n",
        "for synset in wordnet.synsets(val):\n",
        "   for lemma in synset.lemmas():\n",
        "      syn.append(lemma.name())    #add the synonyms\n",
        "      if lemma.antonyms():    #When antonyms are available, add them into the list\n",
        "       ant.append(lemma.antonyms()[0].name())\n",
        "print('Synonyms: ' + str(syn))\n",
        "print('Antonyms: ' + str(ant))"
      ]
    },
    {
      "cell_type": "markdown",
      "metadata": {
        "id": "zge2a3hNSL3Y"
      },
      "source": [
        "--\n",
        "**Exercise 6-3:** \n",
        "\n",
        "Calculate the similarity between the pair of words 'car' and 'bicycle' and between 'car' and 'gasoline'\n"
      ]
    },
    {
      "cell_type": "code",
      "execution_count": null,
      "metadata": {
        "colab": {
          "base_uri": "https://localhost:8080/"
        },
        "id": "2QPfs3t0R9EC",
        "outputId": "4f5df09b-4e65-423d-e24b-f3b91e4f25b0"
      },
      "outputs": [
        {
          "output_type": "stream",
          "name": "stdout",
          "text": [
            "0.7272727272727273\n"
          ]
        }
      ],
      "source": [
        "synset = wordnet.synsets(\"motorcycle\")\n",
        "t1 = synset[0].name()\n",
        "w1 = wordnet.synset(t1)\n",
        "synset2 = wordnet.synsets(\"bicycle\") #bicycle\n",
        "t2 = synset2[0].name()\n",
        "w2 = wordnet.synset(t2)\n",
        "print(w1.wup_similarity(w2))"
      ]
    },
    {
      "cell_type": "code",
      "execution_count": null,
      "metadata": {
        "colab": {
          "base_uri": "https://localhost:8080/"
        },
        "id": "3SxFAoZh878D",
        "outputId": "6e54ac00-133a-47f7-fe32-7a919ac146d5"
      },
      "outputs": [
        {
          "output_type": "stream",
          "name": "stdout",
          "text": [
            "0.23529411764705882\n"
          ]
        }
      ],
      "source": [
        "synset = wordnet.synsets(\"car\")\n",
        "t1 = synset[0].name()\n",
        "w1 = wordnet.synset(t1)\n",
        "synset2 = wordnet.synsets(\"gasoline\") #bicycle\n",
        "t2 = synset2[0].name()\n",
        "w2 = wordnet.synset(t2)\n",
        "print(w1.wup_similarity(w2))"
      ]
    },
    {
      "cell_type": "markdown",
      "metadata": {
        "id": "k8V6NQD6G1AO"
      },
      "source": [
        "**Exercise 6-4:** \n",
        "\n",
        "Calculate the hypernyms in between the pair of words 'car' and 'bicycle' and between 'car' and 'gasoline'\n"
      ]
    },
    {
      "cell_type": "code",
      "execution_count": null,
      "metadata": {
        "colab": {
          "base_uri": "https://localhost:8080/"
        },
        "id": "CbPaPPeMG1qp",
        "outputId": "9b2ddf45-7d06-4108-91d4-214727ea4e2e"
      },
      "outputs": [
        {
          "output_type": "execute_result",
          "data": {
            "text/plain": [
              "[Synset('artifact.n.01'),\n",
              " Synset('container.n.01'),\n",
              " Synset('conveyance.n.03'),\n",
              " Synset('entity.n.01'),\n",
              " Synset('instrumentality.n.03'),\n",
              " Synset('object.n.01'),\n",
              " Synset('physical_entity.n.01'),\n",
              " Synset('vehicle.n.01'),\n",
              " Synset('wheeled_vehicle.n.01'),\n",
              " Synset('whole.n.02')]"
            ]
          },
          "metadata": {},
          "execution_count": 10
        }
      ],
      "source": [
        "synset = wordnet.synsets(\"car\")\n",
        "synset2 = wordnet.synsets(\"bicycle\")\n",
        "sorted(synset[0].common_hypernyms(synset2[0]))"
      ]
    },
    {
      "cell_type": "code",
      "execution_count": null,
      "metadata": {
        "id": "QzDUdzLa878E",
        "outputId": "78496508-b5f2-4b64-be92-625e1bb9a6d3"
      },
      "outputs": [
        {
          "data": {
            "text/plain": [
              "[Synset('entity.n.01'), Synset('physical_entity.n.01')]"
            ]
          },
          "execution_count": 24,
          "metadata": {},
          "output_type": "execute_result"
        }
      ],
      "source": [
        "synset = wordnet.synsets(\"car\")\n",
        "synset2 = wordnet.synsets(\"gasoline\")\n",
        "sorted(synset[0].common_hypernyms(synset2[0]))"
      ]
    },
    {
      "cell_type": "markdown",
      "metadata": {
        "id": "3f8DuhMw878F"
      },
      "source": [
        "**Exercise 6-5:** \n",
        "\n",
        "Calculate the similarity between two sentences using cosine similarity"
      ]
    },
    {
      "cell_type": "code",
      "source": [
        "from scipy import spatial"
      ],
      "metadata": {
        "id": "BRg7XbEH92Bn"
      },
      "execution_count": null,
      "outputs": []
    },
    {
      "cell_type": "code",
      "source": [
        "from nltk.corpus import stopwords\n",
        "from nltk.tokenize import word_tokenize"
      ],
      "metadata": {
        "id": "GFpfocli96dL"
      },
      "execution_count": null,
      "outputs": []
    },
    {
      "cell_type": "code",
      "source": [
        "import nltk\n",
        "nltk.download('punkt')"
      ],
      "metadata": {
        "colab": {
          "base_uri": "https://localhost:8080/"
        },
        "id": "t9-4hwK7-DDO",
        "outputId": "d9d0b10f-4d87-4ff7-88fe-28a1e1930424"
      },
      "execution_count": null,
      "outputs": [
        {
          "output_type": "stream",
          "name": "stdout",
          "text": [
            "[nltk_data] Downloading package punkt to /root/nltk_data...\n",
            "[nltk_data]   Unzipping tokenizers/punkt.zip.\n"
          ]
        },
        {
          "output_type": "execute_result",
          "data": {
            "text/plain": [
              "True"
            ]
          },
          "metadata": {},
          "execution_count": 16
        }
      ]
    },
    {
      "cell_type": "code",
      "source": [
        "import nltk\n",
        "nltk.download('stopwords')"
      ],
      "metadata": {
        "colab": {
          "base_uri": "https://localhost:8080/"
        },
        "id": "dAi4eKYYAOrs",
        "outputId": "464ccdc3-07c7-42cd-d36e-84bed2f97b5f"
      },
      "execution_count": null,
      "outputs": [
        {
          "output_type": "stream",
          "name": "stdout",
          "text": [
            "[nltk_data] Downloading package stopwords to /root/nltk_data...\n",
            "[nltk_data]   Unzipping corpora/stopwords.zip.\n"
          ]
        },
        {
          "output_type": "execute_result",
          "data": {
            "text/plain": [
              "True"
            ]
          },
          "metadata": {},
          "execution_count": 26
        }
      ]
    },
    {
      "cell_type": "code",
      "execution_count": null,
      "metadata": {
        "colab": {
          "base_uri": "https://localhost:8080/"
        },
        "id": "2P4ugIQ_878F",
        "outputId": "61abb1b6-7e3c-4501-cbfe-c3acd12fc918"
      },
      "outputs": [
        {
          "output_type": "stream",
          "name": "stdout",
          "text": [
            "--------\n",
            "Lights\n",
            "Lights\n",
            "Lights\n",
            "Lights\n",
            "Lights\n",
            "Lights\n",
            "--------\n",
            "----------------------------\n",
            "----------------------------\n",
            "----------------------------\n",
            "----------------------------\n",
            "----------------------------\n",
            "----------------------------\n",
            "[1, 0, 1, 0, 1, 0, 1, 0, 0]\n",
            "[1, 1, 1, 0, 0, 0, 0, 0, 0]\n",
            "0.42264973081037427\n"
          ]
        }
      ],
      "source": [
        "\n",
        "# X = input(\"Enter first string: \").lower()\n",
        "# Y = input(\"Enter second string: \").lower()\n",
        "X =\"I love horror movies\"\n",
        "Y =\"Lights out is a horror movie\"\n",
        "  \n",
        "# tokenization\n",
        "X_list = word_tokenize(X) \n",
        "Y_list = word_tokenize(Y)\n",
        "Y_list\n",
        "X_list\n",
        "sw = stopwords.words('english') \n",
        "l1=[];l2=[]\n",
        "X_set = {w for w in X_list if not w in sw} #--> This should remove the stopwords\n",
        "Y_set = {w for w in Y_list if not w in sw}\n",
        "print('--------')\n",
        "for i in w:\n",
        "  print(w)\n",
        "print('--------')\n",
        "vector = X_set.union(Y_set)\n",
        "vector\n",
        "for w in vector:\n",
        "  if w in X_set: l1.append(1)\n",
        "  else: l1.append (0)\n",
        "  print('----------------------------')\n",
        "  if w in Y_set: l2.append(1)\n",
        "  else: l1.append(0)\n",
        "for x in l1:\n",
        "  for y in l2:\n",
        "    if len(l2)!= len(l1):\n",
        "      l2.append(0)\n",
        "\n",
        "print(l1)\n",
        "print(l2)\n",
        "# CODE HERE\n",
        "cosine_similarity = spatial.distance.cosine(l1, l2)\n",
        "print(cosine_similarity)\n"
      ]
    }
  ],
  "metadata": {
    "colab": {
      "name": "Lab 5.ipynb",
      "provenance": [],
      "include_colab_link": true
    },
    "kernelspec": {
      "display_name": "Python 3 (ipykernel)",
      "language": "python",
      "name": "python3"
    },
    "language_info": {
      "codemirror_mode": {
        "name": "ipython",
        "version": 3
      },
      "file_extension": ".py",
      "mimetype": "text/x-python",
      "name": "python",
      "nbconvert_exporter": "python",
      "pygments_lexer": "ipython3",
      "version": "3.9.7"
    }
  },
  "nbformat": 4,
  "nbformat_minor": 0
}